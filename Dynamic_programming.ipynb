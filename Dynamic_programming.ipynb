{
 "cells": [
  {
   "source": [
    "## 数组不相邻元素最大和\n",
    "\n",
    "|0|1|2|3|4|5|6|\n",
    "|-|-|-|-|-|-|\n",
    "|1|2|4|1|7|8|3|\n",
    "\n",
    "递归表达式：\n",
    "\n",
    "OPT(i) = max{OPT(i-2)+arr\\[i\\], OPT(i-1)}\n",
    "\n",
    "递归出口：\n",
    "\n",
    "OPT(0) = arr\\[0\\]\n",
    "\n",
    "OPT(1) = max{arr\\[0\\], arr\\[1\\]}"
   ],
   "cell_type": "markdown",
   "metadata": {}
  },
  {
   "cell_type": "code",
   "execution_count": 2,
   "metadata": {},
   "outputs": [
    {
     "output_type": "stream",
     "name": "stdout",
     "text": [
      "15\n15.0\n"
     ]
    }
   ],
   "source": [
    "arr = [1, 2, 4, 1, 7, 8, 3]  # array\n",
    "\n",
    "# recursive\n",
    "# O(N^2)\n",
    "def rec_opt(arr, i):\n",
    "    if 0 == i:\n",
    "        return arr[0]\n",
    "    elif 1 == i:\n",
    "        return max(arr[0], arr[1])\n",
    "    else:\n",
    "        A = rec_opt(arr, i - 2) + arr[i]\n",
    "        B = rec_opt(arr, i - 1)\n",
    "        return max(A, B)\n",
    "\n",
    "print(rec_opt(arr, len(arr) - 1))\n",
    "\n",
    "# iterative, dynamic programming\n",
    "# O(N)\n",
    "import numpy as np\n",
    "def dp_opt(arr):\n",
    "    opt = np.zeros(len(arr))\n",
    "    opt[0] = arr[0]\n",
    "    opt[1] = max(arr[0], arr[1])\n",
    "    for i in range(2, len(arr)):\n",
    "        A = opt[i - 2] + arr[i]\n",
    "        B = opt[i - 1]\n",
    "        opt[i] = max(A, B)\n",
    "    return opt[-1]\n",
    "\n",
    "print(dp_opt(arr))"
   ]
  },
  {
   "source": [
    "## N-Sum问题\n",
    "\n",
    "已知数组 arr = \\[3, 34, 4, 12, 5, 2\\]\n",
    "\n",
    "能否找出其中和为 *S = 9* 的所有元素？\n",
    "能就返回 *true*，否则返回 *false*\n",
    "\n",
    "递归表达式：\n",
    "\n",
    "Subset(i, s) = Subset(i - 1, s - arr\\[i\\]) **or** Subset(i - 1, s)\n",
    "\n",
    "递归出口：\n",
    "\n",
    "if s == 0: return True\n",
    "\n",
    "if i == 0: return arr\\[0\\] == s\n",
    "\n",
    "if arr\\[i\\] > s: return Subset(i - 1, s)"
   ],
   "cell_type": "markdown",
   "metadata": {}
  },
  {
   "cell_type": "code",
   "execution_count": 3,
   "metadata": {},
   "outputs": [
    {
     "output_type": "stream",
     "name": "stdout",
     "text": [
      "True\nTrue\nTrue\nTrue\nFalse\n"
     ]
    }
   ],
   "source": [
    "arr = [3, 34, 4, 12, 5, 2]\n",
    "\n",
    "def rec_subset(arr, i, s):\n",
    "    if 0 == s:\n",
    "        return True\n",
    "    elif 0 == i:\n",
    "        return arr[0] == s\n",
    "    elif arr[i] > s:\n",
    "        return rec_subset(arr, i - 1, s)\n",
    "    else:\n",
    "        return rec_subset(arr, i - 1, s - arr[i]) or rec_subset(arr, i - 1, s)\n",
    "\n",
    "print(rec_subset(arr, len(arr)-1, 9))\n",
    "print(rec_subset(arr, len(arr)-1, 10))\n",
    "print(rec_subset(arr, len(arr)-1, 11))\n",
    "print(rec_subset(arr, len(arr)-1, 12))\n",
    "print(rec_subset(arr, len(arr)-1, 13))"
   ]
  },
  {
   "source": [
    "构造矩阵法：\n",
    "\n",
    "|arr|i|0|1|2|3|4|5|6|7|8|9|\n",
    "|---:|---:|---:|---:|---:|---:|---:|---:|---:|---:|---:|---:|\n",
    "|3  |0|T|F|F|T|F|F|F|F|F|F|\n",
    "|34 |1|T|...|\n",
    "|4  |2|T||...|\n",
    "|12 |3|T|||...|\n",
    "|5  |4|T||||...|\n",
    "|2  |5|T|||||...|"
   ],
   "cell_type": "markdown",
   "metadata": {}
  },
  {
   "cell_type": "code",
   "execution_count": 5,
   "metadata": {},
   "outputs": [
    {
     "output_type": "stream",
     "name": "stdout",
     "text": [
      "True\nTrue\nTrue\nTrue\nFalse\n"
     ]
    }
   ],
   "source": [
    "import numpy as np\n",
    "def dp_subset(arr, S):\n",
    "    subset = np.zeros((len(arr), S + 1), dtype=bool)\n",
    "    subset[0, :] = False\n",
    "    subset[:, 0] = True\n",
    "    subset[0, arr[0]] = True\n",
    "    for i in range(1, len(arr)):\n",
    "        for s in range(1, S + 1):\n",
    "            if arr[i] > s:\n",
    "                subset[i, s] = subset[i - 1, s]\n",
    "            else:\n",
    "                subset[i, s] = subset[i - 1, s - arr[i]] or subset[i - 1, s]\n",
    "    return subset[-1, -1]\n",
    "\n",
    "print(dp_subset(arr, 9))\n",
    "print(dp_subset(arr, 10))\n",
    "print(dp_subset(arr, 11))\n",
    "print(dp_subset(arr, 12))\n",
    "print(dp_subset(arr, 13))"
   ]
  },
  {
   "cell_type": "code",
   "execution_count": null,
   "metadata": {},
   "outputs": [],
   "source": []
  }
 ],
 "metadata": {
  "kernelspec": {
   "name": "python3",
   "display_name": "Python 3",
   "language": "python"
  }
 },
 "nbformat": 4,
 "nbformat_minor": 4
}