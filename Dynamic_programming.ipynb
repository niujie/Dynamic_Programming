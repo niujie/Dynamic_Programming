{
 "cells": [
  {
   "source": [
    "## 数组不相邻元素最大和\n",
    "\n",
    "|0|1|2|3|4|5|6|\n",
    "|-|-|-|-|-|-|\n",
    "|1|2|4|1|7|8|3|\n",
    "\n",
    "递归表达式：\n",
    "\n",
    "OPT(i) = max{OPT(i-2)+arr\\[i\\], OPT(i-1)}\n",
    "\n",
    "递归出口：\n",
    "\n",
    "OPT(0) = arr\\[0\\]\n",
    "\n",
    "OPT(1) = max{arr\\[0\\], arr\\[1\\]}"
   ],
   "cell_type": "markdown",
   "metadata": {}
  },
  {
   "cell_type": "code",
   "execution_count": 2,
   "metadata": {},
   "outputs": [
    {
     "output_type": "stream",
     "name": "stdout",
     "text": [
      "15\n15.0\n"
     ]
    }
   ],
   "source": [
    "arr = [1, 2, 4, 1, 7, 8, 3]  # array\n",
    "\n",
    "# recursive\n",
    "# O(N^2)\n",
    "def rec_opt(arr, i):\n",
    "    if 0 == i:\n",
    "        return arr[0]\n",
    "    elif 1 == i:\n",
    "        return max(arr[0], arr[1])\n",
    "    else:\n",
    "        A = rec_opt(arr, i - 2) + arr[i]\n",
    "        B = rec_opt(arr, i - 1)\n",
    "        return max(A, B)\n",
    "\n",
    "print(rec_opt(arr, len(arr) - 1))\n",
    "\n",
    "# iterative, dynamic programming\n",
    "# O(N)\n",
    "import numpy as np\n",
    "def dp_opt(arr):\n",
    "    opt = np.zeros(len(arr))\n",
    "    opt[0] = arr[0]\n",
    "    opt[1] = max(arr[0], arr[1])\n",
    "    for i in range(2, len(arr)):\n",
    "        A = opt[i - 2] + arr[i]\n",
    "        B = opt[i - 1]\n",
    "        opt[i] = max(A, B)\n",
    "    return opt[-1]\n",
    "\n",
    "print(dp_opt(arr))"
   ]
  },
  {
   "source": [
    "## N-Sum问题\n",
    "\n",
    "已知数组 arr = \\[3, 34, 4, 12, 5, 2\\]\n",
    "\n",
    "能否找出其中和为 *S = 9* 的所有元素？\n",
    "能就返回 *true*，否则返回 *false*\n",
    "\n",
    "递归表达式：\n",
    "\n",
    "Subset(i, s) = Subset(i - 1, s - arr\\[i\\]) **or** Subset(i - 1, s)\n",
    "\n",
    "递归出口：\n",
    "\n",
    "if s == 0: return True\n",
    "\n",
    "if i == 0: return arr\\[0\\] == s\n",
    "\n",
    "if arr\\[i\\] > s: return Subset(i - 1, s)"
   ],
   "cell_type": "markdown",
   "metadata": {}
  },
  {
   "cell_type": "code",
   "execution_count": 3,
   "metadata": {},
   "outputs": [
    {
     "output_type": "stream",
     "name": "stdout",
     "text": [
      "True\nTrue\nTrue\nTrue\nFalse\n"
     ]
    }
   ],
   "source": [
    "arr = [3, 34, 4, 12, 5, 2]\n",
    "\n",
    "def rec_subset(arr, i, s):\n",
    "    if 0 == s:\n",
    "        return True\n",
    "    elif 0 == i:\n",
    "        return arr[0] == s\n",
    "    elif arr[i] > s:\n",
    "        return rec_subset(arr, i - 1, s)\n",
    "    else:\n",
    "        return rec_subset(arr, i - 1, s - arr[i]) or rec_subset(arr, i - 1, s)\n",
    "\n",
    "print(rec_subset(arr, len(arr)-1, 9))\n",
    "print(rec_subset(arr, len(arr)-1, 10))\n",
    "print(rec_subset(arr, len(arr)-1, 11))\n",
    "print(rec_subset(arr, len(arr)-1, 12))\n",
    "print(rec_subset(arr, len(arr)-1, 13))"
   ]
  },
  {
   "source": [
    "构造矩阵法：\n",
    "\n",
    "|arr|i|0|1|2|3|4|5|6|7|8|9|\n",
    "|---:|---:|---:|---:|---:|---:|---:|---:|---:|---:|---:|---:|\n",
    "|3  |0|T|F|F|T|F|F|F|F|F|F|\n",
    "|34 |1|T|...|\n",
    "|4  |2|T||...|\n",
    "|12 |3|T|||...|\n",
    "|5  |4|T||||...|\n",
    "|2  |5|T|||||...|"
   ],
   "cell_type": "markdown",
   "metadata": {}
  },
  {
   "cell_type": "code",
   "execution_count": 5,
   "metadata": {},
   "outputs": [
    {
     "output_type": "stream",
     "name": "stdout",
     "text": [
      "True\nTrue\nTrue\nTrue\nFalse\n"
     ]
    }
   ],
   "source": [
    "import numpy as np\n",
    "def dp_subset(arr, S):\n",
    "    subset = np.zeros((len(arr), S + 1), dtype=bool)\n",
    "    subset[0, :] = False\n",
    "    subset[:, 0] = True\n",
    "    subset[0, arr[0]] = True\n",
    "    for i in range(1, len(arr)):\n",
    "        for s in range(1, S + 1):\n",
    "            if arr[i] > s:\n",
    "                subset[i, s] = subset[i - 1, s]\n",
    "            else:\n",
    "                subset[i, s] = subset[i - 1, s - arr[i]] or subset[i - 1, s]\n",
    "    return subset[-1, -1]\n",
    "\n",
    "print(dp_subset(arr, 9))\n",
    "print(dp_subset(arr, 10))\n",
    "print(dp_subset(arr, 11))\n",
    "print(dp_subset(arr, 12))\n",
    "print(dp_subset(arr, 13))"
   ]
  },
  {
   "source": [
    "## 挖金矿\n",
    "\n",
    "有一个国家发现了5座金矿，每座金矿的黄金储量不同，需要参与挖掘的工人数也不同。参与挖矿工人总数是10人。每座金矿要么全挖，要么不挖，不能派出一半人挖取一半金矿。要想得到尽可能多的黄金，应该选择挖取哪几座金矿？\n",
    "\n",
    "{500金/5人，200金/3人，300金/4人，350金/3人，400金/5人}\n",
    "\n",
    "**方法一：排列组合**\n",
    "\n",
    "每一座金矿都有挖与不挖两种选择，如果有N座金矿，排列组合有2^N种选择。对所有可能性做遍历，排除那些使用工人数超过10的选择，在剩下的选择里找出获得金币数最多的选择。\n",
    "\n",
    "时间复杂度为O(2^N)。"
   ],
   "cell_type": "markdown",
   "metadata": {}
  },
  {
   "cell_type": "code",
   "execution_count": 21,
   "metadata": {},
   "outputs": [
    {
     "output_type": "stream",
     "name": "stdout",
     "text": [
      "900\n"
     ]
    }
   ],
   "source": [
    "import itertools\n",
    "\n",
    "g = [500, 200, 300, 350, 400]   # gold\n",
    "w = [5, 3, 4, 3, 5]             # worker\n",
    "\n",
    "index = list(range(0, len(g)))\n",
    "gs = 0  # 黄金总数\n",
    "for r in range(1, len(index)+1):\n",
    "    # 选择不同数量时的组合数\n",
    "    for ind in itertools.combinations(index, r):\n",
    "        ws = sum([w[i] for i in ind])    # 工人总数\n",
    "        if ws > 10:\n",
    "            pass\n",
    "        else:\n",
    "            gs = max(gs, sum([g[i] for i in ind]))   # 挖取的黄金总数\n",
    "print(gs)"
   ]
  },
  {
   "source": [
    "动态规划\n",
    "\n",
    "递归表达式：\n",
    "\n",
    "OPT(i, N) = max{ OPT(i - 1, N - w\\[i\\]) + g\\[i\\], OPT(i - 1, N)}, N 为总人数\n",
    "\n",
    "递归出口：\n",
    "\n",
    "（1）只有一座金矿，只能挖这唯一的，而且人数不能超，得到的黄金就是这个矿的\n",
    "\n",
    "if i == 0 & N >= w\\[0\\], OPT(0, N) = g\\[0\\]\n",
    "\n",
    "（2）如果给定的工人数量不够挖取第1座金矿，也就是 *N < w\\[0\\]* 的时候，收获为0\n",
    "\n",
    "if i == 0 & N < w\\[0\\], OPT(0, N) = 0\n",
    "\n",
    "（3）可用工人数小于挖取该金矿需要人数\n",
    "\n",
    "if i >= 1 & N < w\\[i\\], OPT(i, N) = OPT(i - 1, N)"
   ],
   "cell_type": "markdown",
   "metadata": {}
  },
  {
   "cell_type": "code",
   "execution_count": 25,
   "metadata": {},
   "outputs": [
    {
     "output_type": "stream",
     "name": "stdout",
     "text": [
      "900\n"
     ]
    }
   ],
   "source": [
    "g = [400, 500, 200, 300, 350]\n",
    "w = [5, 5, 3, 4, 3]\n",
    "\n",
    "def rec_opt(g, i, w, n):\n",
    "    # i 是金矿数\n",
    "    # n 是工人数\n",
    "    if 0 == i and n < w[0]:\n",
    "        return 0\n",
    "    if 0 == i and n >= w[0]:\n",
    "        return g[0]\n",
    "    if i > 0 and n < w[i - 1]:\n",
    "        return rec_opt(g, i - 1, w, n)\n",
    "    \n",
    "    a = rec_opt(g, i - 1, w, n)\n",
    "    b = rec_opt(g, i - 1, w, n - w[i]) + g[i]\n",
    "    return max(a, b)\n",
    "\n",
    "print(rec_opt(g, len(g)-1, w, 10))"
   ]
  },
  {
   "cell_type": "code",
   "execution_count": 32,
   "metadata": {},
   "outputs": [
    {
     "output_type": "execute_result",
     "data": {
      "text/plain": [
       "900.0"
      ]
     },
     "metadata": {},
     "execution_count": 32
    }
   ],
   "source": [
    "import numpy as np\n",
    "# 动态规划，二维数组法\n",
    "\n",
    "g = [400, 500, 200, 300, 350]\n",
    "w = [5, 5, 3, 4, 3]\n",
    "\n",
    "def dp_subset(g, ng, w, n):\n",
    "    # ng is number of gold mines\n",
    "    # n is number of workers\n",
    "    col = n + 1\n",
    "    preResults = np.zeros(col)    # 存放上一行结果\n",
    "    results = np.zeros(col)       # 存放当前行结果\n",
    "\n",
    "    # 填充边界\n",
    "    for i in range(0, col):\n",
    "        if i < w[0]:\n",
    "            preResults[i] = 0\n",
    "        else:\n",
    "            preResults[i] = g[0]\n",
    "    \n",
    "    # 填充其余格子，从上一行推出下一行，外层循环金矿数量，内层工人数\n",
    "    for i in range(0, ng):\n",
    "        for j in range(0, col):\n",
    "            if j < w[i]:\n",
    "                results[j] = preResults[j]\n",
    "            else:\n",
    "                results[j] = max(preResults[j], preResults[j - w[i]] + g[i])\n",
    "        \n",
    "        for j in range(0, col):\n",
    "            preResults[j] = results[j]\n",
    "    \n",
    "    return results[-1]\n",
    "\n",
    "dp_subset(g, len(g), w, 10)"
   ]
  },
  {
   "cell_type": "code",
   "execution_count": null,
   "metadata": {},
   "outputs": [],
   "source": []
  }
 ],
 "metadata": {
  "kernelspec": {
   "name": "python3",
   "display_name": "Python 3",
   "language": "python"
  }
 },
 "nbformat": 4,
 "nbformat_minor": 4
}