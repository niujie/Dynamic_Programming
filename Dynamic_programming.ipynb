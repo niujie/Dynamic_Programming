{
 "cells": [
  {
   "source": [
    "## 数组不相邻元素最大和\n",
    "\n",
    "|0|1|2|3|4|5|6|\n",
    "|-|-|-|-|-|-|\n",
    "|1|2|4|1|7|8|3|\n",
    "\n",
    "递归表达式：\n",
    "\n",
    "OPT(i) = max{OPT(i-2)+arr\\[i\\], OPT(i-1)}\n",
    "\n",
    "递归出口：\n",
    "\n",
    "OPT(0) = arr\\[0\\]\n",
    "\n",
    "OPT(1) = max{arr\\[0\\], arr\\[1\\]}"
   ],
   "cell_type": "markdown",
   "metadata": {}
  },
  {
   "cell_type": "code",
   "execution_count": 2,
   "metadata": {},
   "outputs": [
    {
     "output_type": "stream",
     "name": "stdout",
     "text": [
      "15\n"
     ]
    }
   ],
   "source": [
    "arr = [1, 2, 4, 1, 7, 8, 3]  # array\n",
    "\n",
    "# recursive\n",
    "def rec_opt(arr, i):\n",
    "    if 0 == i:\n",
    "        return arr[0]\n",
    "    elif 1 == i:\n",
    "        return max(arr[0], arr[1])\n",
    "    else:\n",
    "        A = rec_opt(arr, i - 2) + arr[i]\n",
    "        B = rec_opt(arr, i - 1)\n",
    "        return max(A, B)\n",
    "\n",
    "print(rec_opt(arr, len(arr) - 1))"
   ]
  },
  {
   "cell_type": "code",
   "execution_count": null,
   "metadata": {},
   "outputs": [],
   "source": []
  }
 ],
 "metadata": {
  "kernelspec": {
   "name": "python3",
   "display_name": "Python 3.7.8 64-bit ('keras_env': conda)",
   "metadata": {
    "interpreter": {
     "hash": "1be5b389a0f65b024b642a11973376a05d5be036a024b1613e26319a29a83942"
    }
   }
  }
 },
 "nbformat": 4,
 "nbformat_minor": 4
}