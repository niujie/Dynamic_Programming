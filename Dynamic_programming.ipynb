{
 "cells": [
  {
   "source": [
    "## 数组不相邻元素最大和\n",
    "\n",
    "$$\n",
    "\\begin{array}{l}\n",
    "0 & 1 & 2 & 3 & 4 & 5 & 6 \\\\\n",
    "1 & 2 & 4 & 1 & 7 & 8 & 3\n",
    "\\end{array}\n",
    "$$\n",
    "递归表达式：\n",
    "\n",
    "$$\n",
    "OPT(i) = max\n",
    "\\begin{cases}\n",
    "OPT(i-2)+arr\\left[i\\right]\\\\\n",
    "OPT(i-1)\n",
    "\\end{cases}\n",
    "$$\n",
    "\n",
    "递归出口：\n",
    "\n",
    "$$\n",
    "\\begin{align*}\n",
    "OPT(0) &= arr\\left[0\\right]\\\\\\\\\n",
    "OPT(1) &= max\n",
    "\\begin{cases}\n",
    "arr\\left[0\\right]\\\\\n",
    "arr\\left[1\\right]\n",
    "\\end{cases}\n",
    "\\end{align*}\n",
    "$$"
   ],
   "cell_type": "markdown",
   "metadata": {}
  },
  {
   "cell_type": "code",
   "execution_count": 2,
   "metadata": {},
   "outputs": [
    {
     "output_type": "stream",
     "name": "stdout",
     "text": [
      "15\n15.0\n"
     ]
    }
   ],
   "source": [
    "arr = [1, 2, 4, 1, 7, 8, 3]  # array\n",
    "\n",
    "# recursive\n",
    "# O(N^2)\n",
    "def rec_opt(arr, i):\n",
    "    if 0 == i:\n",
    "        return arr[0]\n",
    "    elif 1 == i:\n",
    "        return max(arr[0], arr[1])\n",
    "    else:\n",
    "        A = rec_opt(arr, i - 2) + arr[i]\n",
    "        B = rec_opt(arr, i - 1)\n",
    "        return max(A, B)\n",
    "\n",
    "print(rec_opt(arr, len(arr) - 1))\n",
    "\n",
    "# iterative, dynamic programming\n",
    "# O(N)\n",
    "import numpy as np\n",
    "def dp_opt(arr):\n",
    "    opt = np.zeros(len(arr))\n",
    "    opt[0] = arr[0]\n",
    "    opt[1] = max(arr[0], arr[1])\n",
    "    for i in range(2, len(arr)):\n",
    "        A = opt[i - 2] + arr[i]\n",
    "        B = opt[i - 1]\n",
    "        opt[i] = max(A, B)\n",
    "    return opt[-1]\n",
    "\n",
    "print(dp_opt(arr))"
   ]
  },
  {
   "source": [
    "## N-Sum问题\n",
    "\n",
    "已知数组 arr = \\[3, 34, 4, 12, 5, 2\\]\n",
    "\n",
    "能否找出其中和为 *S = 9* 的所有元素？\n",
    "能就返回 *true*，否则返回 *false*\n",
    "\n",
    "递归表达式：\n",
    "\n",
    "Subset(i, s) = Subset(i - 1, s - arr\\[i\\]) **or** Subset(i - 1, s)\n",
    "\n",
    "递归出口：\n",
    "\n",
    "if s == 0: return True\n",
    "\n",
    "if i == 0: return arr\\[0\\] == s\n",
    "\n",
    "if arr\\[i\\] > s: return Subset(i - 1, s)"
   ],
   "cell_type": "markdown",
   "metadata": {}
  },
  {
   "cell_type": "code",
   "execution_count": 3,
   "metadata": {},
   "outputs": [
    {
     "output_type": "stream",
     "name": "stdout",
     "text": [
      "True\nTrue\nTrue\nTrue\nFalse\n"
     ]
    }
   ],
   "source": [
    "arr = [3, 34, 4, 12, 5, 2]\n",
    "\n",
    "def rec_subset(arr, i, s):\n",
    "    if 0 == s:\n",
    "        return True\n",
    "    elif 0 == i:\n",
    "        return arr[0] == s\n",
    "    elif arr[i] > s:\n",
    "        return rec_subset(arr, i - 1, s)\n",
    "    else:\n",
    "        return rec_subset(arr, i - 1, s - arr[i]) or rec_subset(arr, i - 1, s)\n",
    "\n",
    "print(rec_subset(arr, len(arr)-1, 9))\n",
    "print(rec_subset(arr, len(arr)-1, 10))\n",
    "print(rec_subset(arr, len(arr)-1, 11))\n",
    "print(rec_subset(arr, len(arr)-1, 12))\n",
    "print(rec_subset(arr, len(arr)-1, 13))"
   ]
  },
  {
   "source": [
    "构造矩阵法：\n",
    "$$\n",
    "\\begin{array}{r}\n",
    "arr & i & 0 & 1 & 2 & 3 & 4 & 5 & 6 & 7 & 8 & 9 \\\\\n",
    "3   & 0 & T & F & F & T & F & F & F & F & F & F \\\\\n",
    "34  & 1 & T & \\cdots \\\\\n",
    "4   & 2 & T &   & \\cdots \\\\\n",
    "12  & 3 & T &   &   & \\cdots \\\\\n",
    "5   & 4 & T &   &   &   & \\cdots \\\\\n",
    "2   & 5 & T &   &   &   &   & \\cdots\n",
    "\\end{array}\n",
    "$$"
   ],
   "cell_type": "markdown",
   "metadata": {}
  },
  {
   "cell_type": "code",
   "execution_count": 5,
   "metadata": {},
   "outputs": [
    {
     "output_type": "stream",
     "name": "stdout",
     "text": [
      "True\nTrue\nTrue\nTrue\nFalse\n"
     ]
    }
   ],
   "source": [
    "import numpy as np\n",
    "def dp_subset(arr, S):\n",
    "    subset = np.zeros((len(arr), S + 1), dtype=bool)\n",
    "    subset[0, :] = False\n",
    "    subset[:, 0] = True\n",
    "    subset[0, arr[0]] = True\n",
    "    for i in range(1, len(arr)):\n",
    "        for s in range(1, S + 1):\n",
    "            if arr[i] > s:\n",
    "                subset[i, s] = subset[i - 1, s]\n",
    "            else:\n",
    "                subset[i, s] = subset[i - 1, s - arr[i]] or subset[i - 1, s]\n",
    "    return subset[-1, -1]\n",
    "\n",
    "print(dp_subset(arr, 9))\n",
    "print(dp_subset(arr, 10))\n",
    "print(dp_subset(arr, 11))\n",
    "print(dp_subset(arr, 12))\n",
    "print(dp_subset(arr, 13))"
   ]
  },
  {
   "source": [
    "## 挖金矿\n",
    "\n",
    "有一个国家发现了5座金矿，每座金矿的黄金储量不同，需要参与挖掘的工人数也不同。参与挖矿工人总数是10人。每座金矿要么全挖，要么不挖，不能派出一半人挖取一半金矿。要想得到尽可能多的黄金，应该选择挖取哪几座金矿？\n",
    "\n",
    "$$\n",
    "\\begin{array}{c}\n",
    "500金 & 200金 & 300金 & 350金 & 400金 \\\\\n",
    "  5人 &   3人 &   4人 &   3人 &   5人\n",
    "\\end{array}\n",
    "$$\n",
    "\n",
    "**方法一：排列组合**\n",
    "\n",
    "每一座金矿都有挖与不挖两种选择，如果有N座金矿，排列组合有2^N种选择。对所有可能性做遍历，排除那些使用工人数超过10的选择，在剩下的选择里找出获得金币数最多的选择。\n",
    "\n",
    "时间复杂度为O(2^N)。"
   ],
   "cell_type": "markdown",
   "metadata": {}
  },
  {
   "cell_type": "code",
   "execution_count": 21,
   "metadata": {},
   "outputs": [
    {
     "output_type": "stream",
     "name": "stdout",
     "text": [
      "900\n"
     ]
    }
   ],
   "source": [
    "import itertools\n",
    "\n",
    "g = [500, 200, 300, 350, 400]   # gold\n",
    "w = [5, 3, 4, 3, 5]             # worker\n",
    "\n",
    "index = list(range(0, len(g)))\n",
    "gs = 0  # 黄金总数\n",
    "for r in range(1, len(index)+1):\n",
    "    # 选择不同数量时的组合数\n",
    "    for ind in itertools.combinations(index, r):\n",
    "        ws = sum([w[i] for i in ind])    # 工人总数\n",
    "        if ws > 10:\n",
    "            pass\n",
    "        else:\n",
    "            gs = max(gs, sum([g[i] for i in ind]))   # 挖取的黄金总数\n",
    "print(gs)"
   ]
  },
  {
   "source": [
    "动态规划\n",
    "\n",
    "递归表达式：\n",
    "$$\n",
    "OPT(i, N)=max\n",
    "\\begin{cases}\n",
    "OPT(i-1,N-w\\left[i\\right]) + g\\left[i\\right],\\\\\n",
    "OPT(i-1, N)\n",
    "\\end{cases},\n",
    "$$\n",
    "N 为总人数\n",
    "\n",
    "递归出口：\n",
    "\n",
    "（1）只有一座金矿，只能挖这唯一的，而且人数不能超，得到的黄金就是这个矿的\n",
    "\n",
    "$OPT(0, N) = g\\left[0\\right], \\quad if\\quad i == 0 \\quad \\& \\quad N \\geq w\\left[0\\right]$\n",
    "\n",
    "（2）如果给定的工人数量不够挖取第1座金矿，也就是 *N < w\\[0\\]* 的时候，收获为0\n",
    "\n",
    "$OPT(0, N) = 0, \\quad if\\quad i == 0 \\quad \\&\\quad  N < w\\left[0\\right]$\n",
    "\n",
    "（3）可用工人数小于挖取该金矿需要人数\n",
    "\n",
    "$OPT(i, N) = OPT(i - 1, N), \\quad if\\quad i \\geq 1 \\quad \\&\\quad  N < w\\left[i\\right]$"
   ],
   "cell_type": "markdown",
   "metadata": {}
  },
  {
   "cell_type": "code",
   "execution_count": 25,
   "metadata": {},
   "outputs": [
    {
     "output_type": "stream",
     "name": "stdout",
     "text": [
      "900\n"
     ]
    }
   ],
   "source": [
    "g = [400, 500, 200, 300, 350]\n",
    "w = [5, 5, 3, 4, 3]\n",
    "\n",
    "def rec_opt(g, i, w, n):\n",
    "    # i 是金矿数\n",
    "    # n 是工人数\n",
    "    if 0 == i and n < w[0]:\n",
    "        return 0\n",
    "    if 0 == i and n >= w[0]:\n",
    "        return g[0]\n",
    "    if i > 0 and n < w[i - 1]:\n",
    "        return rec_opt(g, i - 1, w, n)\n",
    "    \n",
    "    a = rec_opt(g, i - 1, w, n)\n",
    "    b = rec_opt(g, i - 1, w, n - w[i]) + g[i]\n",
    "    return max(a, b)\n",
    "\n",
    "print(rec_opt(g, len(g)-1, w, 10))"
   ]
  },
  {
   "cell_type": "code",
   "execution_count": 32,
   "metadata": {},
   "outputs": [
    {
     "output_type": "execute_result",
     "data": {
      "text/plain": [
       "900.0"
      ]
     },
     "metadata": {},
     "execution_count": 32
    }
   ],
   "source": [
    "import numpy as np\n",
    "# 动态规划，二维数组法\n",
    "\n",
    "g = [400, 500, 200, 300, 350]\n",
    "w = [5, 5, 3, 4, 3]\n",
    "\n",
    "def dp_subset(g, ng, w, n):\n",
    "    # ng is number of gold mines\n",
    "    # n is number of workers\n",
    "    col = n + 1\n",
    "    preResults = np.zeros(col)    # 存放上一行结果\n",
    "    results = np.zeros(col)       # 存放当前行结果\n",
    "\n",
    "    # 填充边界\n",
    "    for i in range(0, col):\n",
    "        if i < w[0]:\n",
    "            preResults[i] = 0\n",
    "        else:\n",
    "            preResults[i] = g[0]\n",
    "    \n",
    "    # 填充其余格子，从上一行推出下一行，外层循环金矿数量，内层工人数\n",
    "    for i in range(0, ng):\n",
    "        for j in range(0, col):\n",
    "            if j < w[i]:\n",
    "                results[j] = preResults[j]\n",
    "            else:\n",
    "                results[j] = max(preResults[j], preResults[j - w[i]] + g[i])\n",
    "        \n",
    "        for j in range(0, col):\n",
    "            preResults[j] = results[j]\n",
    "    \n",
    "    return results[-1]\n",
    "\n",
    "dp_subset(g, len(g), w, 10)"
   ]
  },
  {
   "source": [
    "## 跳台阶\n",
    "\n",
    "一只青蛙一次可以跳上1级台阶，也可以跳上2级。问该青蛙跳上一个n级的台阶总共有多少种跳法（先后次序不同算不同的结果）。\n",
    "\n",
    "设 *f(n)* 表示青蛙跳上n级台阶的跳法数。\n",
    "\n",
    "当只有一个台阶时，即 *n = 1* 时，只有 *1* 种跳法；\n",
    "\n",
    "当 *n = 2* 时，有 *2* 种跳法；\n",
    "\n",
    "当 *n = 3* 时，有 *3* 种跳法；\n",
    "\n",
    "当 *n* 很大时，青蛙在最后一步跳到第 *n* 级台阶时，有两种情况：\n",
    "\n",
    "一种是青蛙在第 *n-1* 个台阶跳一个台阶，那么青蛙完成前面 *n-1* 个台阶，就有 *f(n-1)* 种跳法，这是一个子问题。\n",
    "\n",
    "另一种是青蛙在第 *n-2* 个台阶跳两个台阶到第 *n* 个台阶，那么青蛙完成前面 *n-2* 个台阶，就有 *f(n-2)* 种情况，这又是另外一个子问题。\n",
    "\n",
    "两个子问题构成了最终问题的解，所以当 *n >= 3* 时，青蛙就有 *f(n) = f(n-1) + f(n-2)* 种跳法。\n",
    "\n",
    "上面的分析过程，其实我们用到了动态规划的方法，找到了状态转移方程，用数学方程表达如下：\n",
    "\n",
    "$$\n",
    "f(n)=\\begin{cases}\n",
    "1, &n=1\\\\\n",
    "2, &n=2\\\\\n",
    "f(n-1)+f(n-2), &n \\geq 3\n",
    "\\end{cases}\n",
    "$$\n",
    "\n",
    "这就是斐波那契数列。"
   ],
   "cell_type": "markdown",
   "metadata": {}
  },
  {
   "source": [
    "## 三角形最短路径\n",
    "\n",
    "给定一个如下所示三角形，找出从顶到底的路径，使得所有数字加和最小。\n",
    "\n",
    "\\[\n",
    "\n",
    "       [2],\n",
    "      [3,4],\n",
    "     [6,5,7],\n",
    "    [4,1,8,3]\n",
    "    \n",
    "\\]\n",
    "\n",
    "最小加和为11（2+3+5+1=11）\n",
    "\n",
    "递归公式：\n",
    "\n",
    "$$\n",
    "dp_{i,j} = min\n",
    "\\begin{cases}\n",
    "dp_{i+1,j}\\\\\n",
    "dp_{i+1,j+1}\n",
    "\\end{cases}\n",
    "+arr_{i,j}\n",
    "$$"
   ],
   "cell_type": "markdown",
   "metadata": {}
  },
  {
   "cell_type": "code",
   "execution_count": 1,
   "metadata": {},
   "outputs": [
    {
     "output_type": "stream",
     "name": "stdout",
     "text": [
      "11.0\n11\n11\n11\n"
     ]
    }
   ],
   "source": [
    "import numpy as np\n",
    "import sys\n",
    "\n",
    "triangle = [[2], [3, 4], [6, 5, 7],[4, 1, 8, 3]]\n",
    "\n",
    "# 动态规划\n",
    "def dp_minSum(triangle):\n",
    "    if len(triangle) == 1:\n",
    "        return triangle[0][0]\n",
    "    \n",
    "    dp = np.zeros(len(triangle[-1]))\n",
    "\n",
    "    for i in range(0, len(triangle[-1])):\n",
    "        dp[i] = triangle[-1][i]\n",
    "    \n",
    "    for i in range(len(triangle) - 2, -1, -1):\n",
    "        for j in range(0, len(triangle[i])):\n",
    "            dp[j] = min(dp[j], dp[j+1]) + triangle[i][j]\n",
    "    \n",
    "    return dp[0]\n",
    "\n",
    "print(dp_minSum(triangle))\n",
    "\n",
    "# 递归\n",
    "def rec_minSum(triangle, curSum, minimum, index, level):\n",
    "    curSum += triangle[level][index]\n",
    "    if level == len(triangle) - 1:\n",
    "        return min(minimum, curSum)\n",
    "    \n",
    "    a = rec_minSum(triangle, curSum, minimum, index, level + 1)\n",
    "    b = rec_minSum(triangle, curSum, minimum, index + 1, level + 1)\n",
    "    return min(a, b)\n",
    "\n",
    "print(rec_minSum(triangle, 0, sys.maxsize, 0, 0))\n",
    "\n",
    "# 优化参数的递归\n",
    "def rec_minSum_opt(triangle, row, col):\n",
    "    if row == len(triangle) - 1:\n",
    "        return triangle[row][col]\n",
    "    \n",
    "    a = rec_minSum_opt(triangle, row + 1, col)\n",
    "    b = rec_minSum_opt(triangle, row + 1, col + 1)\n",
    "    return min(a, b) + triangle[row][col]\n",
    "\n",
    "print(rec_minSum_opt(triangle, 0, 0))\n",
    "\n",
    "# 带“记忆”的递归\n",
    "def rec_minSum_mem(triangle, row, col):\n",
    "    memo = np.zeros((len(triangle) * (1 + len(triangle))) // 2) -1\n",
    "    \n",
    "    if row == len(triangle) - 1:\n",
    "        return triangle[row][col]\n",
    "    \n",
    "    if memo[row * (row + 1) // 2 + col] != -1:\n",
    "        return memo[row * (row + 1) // 2 + col]\n",
    "    else:\n",
    "        a = rec_minSum_mem(triangle, row + 1, col) + triangle[row][col]\n",
    "        b = rec_minSum_mem(triangle, row + 1, col + 1) + triangle[row][col]\n",
    "        minValue = min(a, b)\n",
    "        memo[row * (row + 1) // 2 + col] = minValue\n",
    "        return minValue\n",
    "\n",
    "print(rec_minSum_mem(triangle, 0, 0))"
   ]
  },
  {
   "source": [
    "## Minimum Path Sum\n",
    "\n",
    "Description：\n",
    "\n",
    "Given a m x n grid filled with non-negative numbers, find a path from top left to bottom right which minimizes the sum of all numbers along its path.\n",
    "\n",
    "Note: You can only move either down or right at any point in time.\n",
    "\n",
    "Example:\n",
    "\n",
    "Input:\n",
    "\n",
    "\\[\n",
    "\n",
    "    [1,3,1],\n",
    "    [1,5,1],\n",
    "    [4,2,1]\n",
    "\n",
    "\\]\n",
    "\n",
    "Output: 7\n",
    "\n",
    "Explanation: Because the path 1→3→1→1→1 minimizes the sum.\n",
    "\n",
    "解题思路：\n",
    "\n",
    "（1） 递归法\n",
    "\n",
    "问题分析：\n",
    "\n",
    "1）假如我们就在最右下角的格子(也可以想象成网格只有一个格子)，那么最短路径和就是格子中的值；\n",
    "\n",
    "2）假如我们在最后一行的格子中，假如是grid\\[grid.length - 1\\]\\[col\\]，那么从这个点出发到最右下角的最小路径和就是它本身加上它右边的格子到最右下角的最小路径和。\n",
    "\n",
    "3）最后一列和最后一行是同理的。\n",
    "\n",
    "4）一个普通的位置，它到最右下角的最小路径和是多少呢，是它左边一个位置和它下面一个位置的最小路径和中最小的那个加上它自己格子的值。"
   ],
   "cell_type": "markdown",
   "metadata": {}
  },
  {
   "cell_type": "code",
   "execution_count": 3,
   "metadata": {},
   "outputs": [
    {
     "output_type": "stream",
     "name": "stdout",
     "text": [
      "7\n"
     ]
    }
   ],
   "source": [
    "# 递归代码实现\n",
    "arr = [[1, 3, 1], [1, 5, 1], [4, 2, 1]]\n",
    "\n",
    "def rec_pathSum(grid, row, col):\n",
    "    if row == len(grid) - 1 and col == len(grid[0]) - 1:\n",
    "        return grid[row][col]\n",
    "    \n",
    "    if row == len(grid) - 1:\n",
    "        return grid[row][col] + rec_pathSum(grid, row, col + 1)\n",
    "    \n",
    "    if col == len(grid[0]) - 1:\n",
    "        return grid[row][col] + rec_pathSum(grid, row + 1, col)\n",
    "    \n",
    "    return grid[row][col] + min(rec_pathSum(grid, row + 1, col),\n",
    "                                rec_pathSum(grid, row, col + 1))\n",
    "\n",
    "print(rec_pathSum(arr, 0, 0))"
   ]
  },
  {
   "source": [
    "（2）记忆化搜索\n",
    "\n",
    "既然上面的过程有很多重复计算的子问题，那我们可以在递归的过程中记录子问题的解，如果之前已经求解过，使用一个二位数组记录一下，那么我们下次再需要这个子问题的解的时候不需要递归，直接拿出来用即可。"
   ],
   "cell_type": "markdown",
   "metadata": {}
  },
  {
   "cell_type": "code",
   "execution_count": 7,
   "metadata": {},
   "outputs": [
    {
     "output_type": "stream",
     "name": "stdout",
     "text": [
      "7\n"
     ]
    }
   ],
   "source": [
    "import numpy as np\n",
    "\n",
    "arr = [[1, 3, 1], [1, 5, 1], [4, 2, 1]]\n",
    "\n",
    "def rec_pathSum_mem(grid, row, col):\n",
    "    memo = np.zeros((len(grid), len(grid[0]))) - 1\n",
    "\n",
    "    if row == len(grid) - 1 and col == len(grid[0]) - 1:\n",
    "        return grid[row][col]\n",
    "    \n",
    "    if memo[row][col] != -1:\n",
    "        return memo[row][col]\n",
    "    \n",
    "    if row == len(grid) - 1:\n",
    "        minValue = grid[row][col] + rec_pathSum_mem(grid, row, col + 1)\n",
    "    elif col == len(grid[0]) - 1:\n",
    "        minValue = grid[row][col] + rec_pathSum_mem(grid, row + 1, col)\n",
    "    else:\n",
    "        minValue = grid[row][col] + min(rec_pathSum_mem(grid, row + 1, col),\n",
    "                                        rec_pathSum_mem(grid, row, col + 1))\n",
    "    \n",
    "    memo[row][col] = minValue\n",
    "    return minValue    \n",
    "\n",
    "print(rec_pathSum_mem(arr, 0, 0))"
   ]
  },
  {
   "source": [
    "（3）动态规划法\n",
    "\n",
    "动态规划的过程可以看做是递归的逆过程，既然递归是从上往下求解，每个大的问题都要先去求解子问题。所以，动态规划是先求解小的子问题，依次往上，所以大问题需要的子问题已经提前求好了。 \n",
    "\n",
    "对于这个题目：\n",
    "\n",
    "先生成一张二维dp表，然后按照递归相反的方向求解；\n",
    "先把dp表的最右下角，最后一行，和最后一列的位置填好；\n",
    "然后一个其它的位置依赖它下面的位置和右边的位置，所以我们依次从下到上，做右往左，填整张dp表，最后dp[0][0]就是答案。 \n",
    "\n",
    "r = grid.length - 1\n",
    "\n",
    "c = grid\\[0\\].length - 1\n",
    "\n",
    "a. 最右下角的格子：dp\\[r\\]\\[c\\] = grid\\[r\\]\\[c\\]\n",
    "\n",
    "b. 最后一行的dp表：dp\\[r\\]\\[j\\] = grid\\[r\\]\\[j\\] + dp\\[r\\]\\[j+1\\]\n",
    "\n",
    "c. 最后一列的dp表：dp\\[i\\]\\[c\\] = grid\\[i\\]\\[c\\] + dp\\[i+1\\]\\[c\\]\n",
    "\n",
    "d. 普通位置：dp\\[i\\]\\[j\\] = min(dp\\[i+1\\]\\[j\\], dp\\[i\\]\\[j+1\\]) + grid\\[i\\]\\[j\\]"
   ],
   "cell_type": "markdown",
   "metadata": {}
  },
  {
   "cell_type": "code",
   "execution_count": 9,
   "metadata": {},
   "outputs": [
    {
     "output_type": "stream",
     "name": "stdout",
     "text": [
      "7.0\n"
     ]
    }
   ],
   "source": [
    "# 动态规划\n",
    "\n",
    "import numpy as np\n",
    "\n",
    "arr = [[1, 3, 1], [1, 5, 1], [4, 2, 1]]\n",
    "\n",
    "def dp_pathSum(grid):\n",
    "    row = len(grid)\n",
    "    col = len(grid[0])\n",
    "    dp = np.zeros((row, col))\n",
    "    # 最右下角格子\n",
    "    dp[row - 1][col - 1] = grid[row - 1][col - 1]\n",
    "    # 填充最后一行\n",
    "    for i in range(col - 2, -1, -1):\n",
    "        dp[row - 1][i] = dp[row - 1][i + 1] + grid[row - 1][i]\n",
    "    # 填充最后一列\n",
    "    for i in range(row - 2, -1, -1):\n",
    "        dp[i][col - 1] = dp[i + 1][col - 1] + grid[i][col - 1]\n",
    "    # 其它格子\n",
    "    for i in range(row - 2, -1, -1):\n",
    "        for j in range(col - 2, -1, -1):\n",
    "            dp[i][j] = min(dp[i + 1][j], dp[i][j + 1]) + grid[i][j]\n",
    "    \n",
    "    return dp[0][0]\n",
    "\n",
    "print(dp_pathSum(arr))"
   ]
  },
  {
   "cell_type": "code",
   "execution_count": null,
   "metadata": {},
   "outputs": [],
   "source": []
  }
 ],
 "metadata": {
  "kernelspec": {
   "name": "python3",
   "display_name": "Python 3",
   "language": "python"
  }
 },
 "nbformat": 4,
 "nbformat_minor": 4
}